{
 "cells": [
  {
   "cell_type": "markdown",
   "id": "animated-bidding",
   "metadata": {},
   "source": [
    "# [speed&direction] (캐글 따라하기) 타이타닉 데이터 분석"
   ]
  },
  {
   "cell_type": "markdown",
   "id": "proof-enough",
   "metadata": {},
   "source": [
    "#### 이번 블로그는 다음의 참고자료를 통해 재구성한 것이다."
   ]
  },
  {
   "cell_type": "markdown",
   "id": "juvenile-baking",
   "metadata": {},
   "source": [
    "- 캐글 코리아 블로그(타이타닉 튜토리얼) : https://kaggle-kr.tistory.com/17#2_6\n",
    "- [수비니움의 캐글 따라하기] 타이타닉 : Beginner Ver. : https://www.kaggle.com/subinium/subinium-tutorial-titanic-beginner/data?select=train.csv"
   ]
  },
  {
   "cell_type": "markdown",
   "id": "subtle-functionality",
   "metadata": {},
   "source": [
    "- 데이터 분석을 공부하는 초보자로써 캐글에서 유명한 타이타닉 데이터 분석을 하려고 한다. \n",
    "- 타이타닉은 역사상 최악의 해난 사고로 영화로도 그 스토리가 제작이 되었다.\n",
    "- 이번 블로그에서 타이타닉에 탑승한 사람들의 여러가지 피처를 활용하여, 승선한 사람들의 생존여부를 예측하는 모델을 생성할 것이다.\n",
    "- 1912년 당시에는 계급이 있었고, 영화에서도 나왔지만 타이타닉의 선실은 1.2.3 등급의 선실로 나뉘어져 있었으며 구명 보트에 사람을 태울때도 1등급의 선실에 있는 사람을 먼저 태운 후 여자와 아이들을 태웠다. 캐글의 데이터도 이와 같은지 분석을 해보려고 한다.\n"
   ]
  },
  {
   "cell_type": "markdown",
   "id": "premium-wheel",
   "metadata": {},
   "source": [
    "#### 시작에 앞서\n",
    "\n",
    "- 데이터 정보를 최소한으로 살피면서 분석한다.\n",
    "- 어려운 메서드나 복잡한 함수는 최대한 피하면서 분석한다.\n",
    "- 분석을 위한 필수적인 요소와 순서를 서술한다.\n",
    "- 초보자가 쉽게 따라할수 있게 한다."
   ]
  },
  {
   "cell_type": "markdown",
   "id": "operating-palace",
   "metadata": {},
   "source": [
    "#### 1. 라이브러리 불러오기"
   ]
  },
  {
   "cell_type": "markdown",
   "id": "accepted-passenger",
   "metadata": {},
   "source": [
    "타이타닉 데이터 분석에 앞서 필요한 라이브러리를 불러오자."
   ]
  },
  {
   "cell_type": "code",
   "execution_count": 16,
   "id": "copyrighted-element",
   "metadata": {},
   "outputs": [],
   "source": [
    "# 데이터 분석에 관련한 라이브러리 불러오기.\n",
    "import pandas as pd\n",
    "from pandas import Series, DataFrame\n",
    "import numpy as np"
   ]
  },
  {
   "cell_type": "code",
   "execution_count": 17,
   "id": "alpine-wonder",
   "metadata": {},
   "outputs": [],
   "source": [
    "# 데이터 시각화 관련한 라이브러리 불러오기.\n",
    "import matplotlib.pyplot as plt\n",
    "import seaborn as sns\n",
    "sns.set_style('whitegrid') \n",
    "%matplotlib inline "
   ]
  },
  {
   "cell_type": "code",
   "execution_count": 18,
   "id": "incoming-report",
   "metadata": {},
   "outputs": [],
   "source": [
    "# Scikit-Learn의 다양한 머신러닝 모듈 불러오기.\n",
    "# 분류 알고리즘 중에서 LogisticRegression, LinearSVC, RandomForestClassifier, KNeighborsClassifier 알고리즘을 사용해 보자.\n",
    "from sklearn.linear_model import LogisticRegression\n",
    "from sklearn.svm import SVC, LinearSVC\n",
    "from sklearn.ensemble import RandomForestClassifier\n",
    "from sklearn.neighbors import KNeighborsClassifier"
   ]
  },
  {
   "cell_type": "markdown",
   "id": "blond-passion",
   "metadata": {},
   "source": [
    "#### 2. 데이터 가져오기"
   ]
  },
  {
   "cell_type": "markdown",
   "id": "horizontal-quilt",
   "metadata": {},
   "source": [
    "캐글 뿐만 아니라 데이터 분석에서 가장 많이 사용되는 파일 형식은 csv 파일이다.\n",
    "코드로 데이터를 읽는 방법은 여러가지 있지만, 그 중에서도 가장 유용한 것은 pd.read_csv로 읽는 방법이다."
   ]
  },
  {
   "cell_type": "code",
   "execution_count": 19,
   "id": "private-novelty",
   "metadata": {},
   "outputs": [],
   "source": [
    "# 데이터 가져오기\n",
    "train_df = pd.read_csv(\"/home/jaeyoon89/kaggle_titanic_study/train.csv\")\n",
    "test_df = pd.read_csv(\"/home/jaeyoon89/kaggle_titanic_study/test.csv\")"
   ]
  },
  {
   "cell_type": "code",
   "execution_count": 20,
   "id": "baking-string",
   "metadata": {},
   "outputs": [
    {
     "data": {
      "text/html": [
       "<div>\n",
       "<style scoped>\n",
       "    .dataframe tbody tr th:only-of-type {\n",
       "        vertical-align: middle;\n",
       "    }\n",
       "\n",
       "    .dataframe tbody tr th {\n",
       "        vertical-align: top;\n",
       "    }\n",
       "\n",
       "    .dataframe thead th {\n",
       "        text-align: right;\n",
       "    }\n",
       "</style>\n",
       "<table border=\"1\" class=\"dataframe\">\n",
       "  <thead>\n",
       "    <tr style=\"text-align: right;\">\n",
       "      <th></th>\n",
       "      <th>PassengerId</th>\n",
       "      <th>Survived</th>\n",
       "      <th>Pclass</th>\n",
       "      <th>Name</th>\n",
       "      <th>Sex</th>\n",
       "      <th>Age</th>\n",
       "      <th>SibSp</th>\n",
       "      <th>Parch</th>\n",
       "      <th>Ticket</th>\n",
       "      <th>Fare</th>\n",
       "      <th>Cabin</th>\n",
       "      <th>Embarked</th>\n",
       "    </tr>\n",
       "  </thead>\n",
       "  <tbody>\n",
       "    <tr>\n",
       "      <th>0</th>\n",
       "      <td>1</td>\n",
       "      <td>0</td>\n",
       "      <td>3</td>\n",
       "      <td>Braund, Mr. Owen Harris</td>\n",
       "      <td>male</td>\n",
       "      <td>22.0</td>\n",
       "      <td>1</td>\n",
       "      <td>0</td>\n",
       "      <td>A/5 21171</td>\n",
       "      <td>7.2500</td>\n",
       "      <td>NaN</td>\n",
       "      <td>S</td>\n",
       "    </tr>\n",
       "    <tr>\n",
       "      <th>1</th>\n",
       "      <td>2</td>\n",
       "      <td>1</td>\n",
       "      <td>1</td>\n",
       "      <td>Cumings, Mrs. John Bradley (Florence Briggs Th...</td>\n",
       "      <td>female</td>\n",
       "      <td>38.0</td>\n",
       "      <td>1</td>\n",
       "      <td>0</td>\n",
       "      <td>PC 17599</td>\n",
       "      <td>71.2833</td>\n",
       "      <td>C85</td>\n",
       "      <td>C</td>\n",
       "    </tr>\n",
       "    <tr>\n",
       "      <th>2</th>\n",
       "      <td>3</td>\n",
       "      <td>1</td>\n",
       "      <td>3</td>\n",
       "      <td>Heikkinen, Miss. Laina</td>\n",
       "      <td>female</td>\n",
       "      <td>26.0</td>\n",
       "      <td>0</td>\n",
       "      <td>0</td>\n",
       "      <td>STON/O2. 3101282</td>\n",
       "      <td>7.9250</td>\n",
       "      <td>NaN</td>\n",
       "      <td>S</td>\n",
       "    </tr>\n",
       "    <tr>\n",
       "      <th>3</th>\n",
       "      <td>4</td>\n",
       "      <td>1</td>\n",
       "      <td>1</td>\n",
       "      <td>Futrelle, Mrs. Jacques Heath (Lily May Peel)</td>\n",
       "      <td>female</td>\n",
       "      <td>35.0</td>\n",
       "      <td>1</td>\n",
       "      <td>0</td>\n",
       "      <td>113803</td>\n",
       "      <td>53.1000</td>\n",
       "      <td>C123</td>\n",
       "      <td>S</td>\n",
       "    </tr>\n",
       "    <tr>\n",
       "      <th>4</th>\n",
       "      <td>5</td>\n",
       "      <td>0</td>\n",
       "      <td>3</td>\n",
       "      <td>Allen, Mr. William Henry</td>\n",
       "      <td>male</td>\n",
       "      <td>35.0</td>\n",
       "      <td>0</td>\n",
       "      <td>0</td>\n",
       "      <td>373450</td>\n",
       "      <td>8.0500</td>\n",
       "      <td>NaN</td>\n",
       "      <td>S</td>\n",
       "    </tr>\n",
       "  </tbody>\n",
       "</table>\n",
       "</div>"
      ],
      "text/plain": [
       "   PassengerId  Survived  Pclass  \\\n",
       "0            1         0       3   \n",
       "1            2         1       1   \n",
       "2            3         1       3   \n",
       "3            4         1       1   \n",
       "4            5         0       3   \n",
       "\n",
       "                                                Name     Sex   Age  SibSp  \\\n",
       "0                            Braund, Mr. Owen Harris    male  22.0      1   \n",
       "1  Cumings, Mrs. John Bradley (Florence Briggs Th...  female  38.0      1   \n",
       "2                             Heikkinen, Miss. Laina  female  26.0      0   \n",
       "3       Futrelle, Mrs. Jacques Heath (Lily May Peel)  female  35.0      1   \n",
       "4                           Allen, Mr. William Henry    male  35.0      0   \n",
       "\n",
       "   Parch            Ticket     Fare Cabin Embarked  \n",
       "0      0         A/5 21171   7.2500   NaN        S  \n",
       "1      0          PC 17599  71.2833   C85        C  \n",
       "2      0  STON/O2. 3101282   7.9250   NaN        S  \n",
       "3      0            113803  53.1000  C123        S  \n",
       "4      0            373450   8.0500   NaN        S  "
      ]
     },
     "execution_count": 20,
     "metadata": {},
     "output_type": "execute_result"
    }
   ],
   "source": [
    "# head() 함수를 이용해 앞의 5번째까지의 데이터 확인하기\n",
    "train_df.head()"
   ]
  },
  {
   "cell_type": "code",
   "execution_count": null,
   "id": "corporate-ottawa",
   "metadata": {},
   "outputs": [],
   "source": []
  },
  {
   "cell_type": "code",
   "execution_count": null,
   "id": "stunning-patio",
   "metadata": {},
   "outputs": [],
   "source": []
  }
 ],
 "metadata": {
  "kernelspec": {
   "display_name": "Python 3",
   "language": "python",
   "name": "python3"
  },
  "language_info": {
   "codemirror_mode": {
    "name": "ipython",
    "version": 3
   },
   "file_extension": ".py",
   "mimetype": "text/x-python",
   "name": "python",
   "nbconvert_exporter": "python",
   "pygments_lexer": "ipython3",
   "version": "3.6.9"
  }
 },
 "nbformat": 4,
 "nbformat_minor": 5
}
