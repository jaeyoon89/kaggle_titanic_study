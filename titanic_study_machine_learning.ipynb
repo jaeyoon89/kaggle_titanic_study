{
 "cells": [
  {
   "cell_type": "markdown",
   "id": "stuck-animation",
   "metadata": {},
   "source": [
    "# 타이타닉 생존자 데이터 분석 Study"
   ]
  },
  {
   "cell_type": "markdown",
   "id": "visible-outreach",
   "metadata": {},
   "source": [
    "이번 블로그는 캐글 초보자를 위한 유명한 데이터 분석인 Titanic: Machine Learning from Disaster에 대한 블로깅일 할 것이다.\n",
    "\n",
    "다음의 참고자료를 통해 재구성 한 것이다.\n",
    "\n",
    "- [캐글 타이타닉 생존자 예측 도전기 (1)](https://cyc1am3n.github.io/2018/10/09/my-first-kaggle-competition_titanic.html)\n",
    "- [seethefuture님 블로그](https://seethefuture.tistory.com/72)\n",
    "- [이것이 데이터 분석이다 chpter.4](https://speedanddirection.tistory.com/64)"
   ]
  },
  {
   "cell_type": "markdown",
   "id": "accredited-preservation",
   "metadata": {},
   "source": [
    "### 1. 데이터 분석을 위한 문제 정의하기"
   ]
  },
  {
   "cell_type": "markdown",
   "id": "sweet-korea",
   "metadata": {},
   "source": [
    "- 타이타닉호의 탑승 했던 사람들의 정보를 바탕으로 생존자를 예측하는 문제이다.\n",
    "- 이 데이터를 분석하기 위해 여러가지 머신러닝 스킬들을 사용할 것이다.\n",
    "- 그 당시 시대적인 배경(사회적 지위, lady first)에 따라 생존률에 영향을 미치는지 확인해 볼 것이다."
   ]
  },
  {
   "cell_type": "markdown",
   "id": "extended-aberdeen",
   "metadata": {},
   "source": [
    "### 2. 데이터 불러오기\n",
    "\n",
    "\n",
    "제일 먼저 필요한 라이브러리인 numpy와 pandas를 import 하고 필요한 데이터 파일을 불러오자.\n"
   ]
  },
  {
   "cell_type": "code",
   "execution_count": 150,
   "id": "documented-marsh",
   "metadata": {},
   "outputs": [],
   "source": [
    "import pandas as pd\n",
    "import numpy as np"
   ]
  },
  {
   "cell_type": "code",
   "execution_count": 151,
   "id": "starting-classification",
   "metadata": {},
   "outputs": [],
   "source": [
    "train = pd.read_csv('/home/jaeyoon89/kaggle_titanic_study/train.csv')\n",
    "test = pd.read_csv('/home/jaeyoon89/kaggle_titanic_study/test.csv')"
   ]
  },
  {
   "cell_type": "markdown",
   "id": "hindu-lightweight",
   "metadata": {},
   "source": [
    "데이터가 제대로 불러와졌는지 확인을 위해 train.head()를 실행시키자."
   ]
  },
  {
   "cell_type": "code",
   "execution_count": 152,
   "id": "false-scene",
   "metadata": {},
   "outputs": [
    {
     "data": {
      "text/html": [
       "<div>\n",
       "<style scoped>\n",
       "    .dataframe tbody tr th:only-of-type {\n",
       "        vertical-align: middle;\n",
       "    }\n",
       "\n",
       "    .dataframe tbody tr th {\n",
       "        vertical-align: top;\n",
       "    }\n",
       "\n",
       "    .dataframe thead th {\n",
       "        text-align: right;\n",
       "    }\n",
       "</style>\n",
       "<table border=\"1\" class=\"dataframe\">\n",
       "  <thead>\n",
       "    <tr style=\"text-align: right;\">\n",
       "      <th></th>\n",
       "      <th>PassengerId</th>\n",
       "      <th>Survived</th>\n",
       "      <th>Pclass</th>\n",
       "      <th>Name</th>\n",
       "      <th>Sex</th>\n",
       "      <th>Age</th>\n",
       "      <th>SibSp</th>\n",
       "      <th>Parch</th>\n",
       "      <th>Ticket</th>\n",
       "      <th>Fare</th>\n",
       "      <th>Cabin</th>\n",
       "      <th>Embarked</th>\n",
       "    </tr>\n",
       "  </thead>\n",
       "  <tbody>\n",
       "    <tr>\n",
       "      <th>0</th>\n",
       "      <td>1</td>\n",
       "      <td>0</td>\n",
       "      <td>3</td>\n",
       "      <td>Braund, Mr. Owen Harris</td>\n",
       "      <td>male</td>\n",
       "      <td>22.0</td>\n",
       "      <td>1</td>\n",
       "      <td>0</td>\n",
       "      <td>A/5 21171</td>\n",
       "      <td>7.2500</td>\n",
       "      <td>NaN</td>\n",
       "      <td>S</td>\n",
       "    </tr>\n",
       "    <tr>\n",
       "      <th>1</th>\n",
       "      <td>2</td>\n",
       "      <td>1</td>\n",
       "      <td>1</td>\n",
       "      <td>Cumings, Mrs. John Bradley (Florence Briggs Th...</td>\n",
       "      <td>female</td>\n",
       "      <td>38.0</td>\n",
       "      <td>1</td>\n",
       "      <td>0</td>\n",
       "      <td>PC 17599</td>\n",
       "      <td>71.2833</td>\n",
       "      <td>C85</td>\n",
       "      <td>C</td>\n",
       "    </tr>\n",
       "    <tr>\n",
       "      <th>2</th>\n",
       "      <td>3</td>\n",
       "      <td>1</td>\n",
       "      <td>3</td>\n",
       "      <td>Heikkinen, Miss. Laina</td>\n",
       "      <td>female</td>\n",
       "      <td>26.0</td>\n",
       "      <td>0</td>\n",
       "      <td>0</td>\n",
       "      <td>STON/O2. 3101282</td>\n",
       "      <td>7.9250</td>\n",
       "      <td>NaN</td>\n",
       "      <td>S</td>\n",
       "    </tr>\n",
       "    <tr>\n",
       "      <th>3</th>\n",
       "      <td>4</td>\n",
       "      <td>1</td>\n",
       "      <td>1</td>\n",
       "      <td>Futrelle, Mrs. Jacques Heath (Lily May Peel)</td>\n",
       "      <td>female</td>\n",
       "      <td>35.0</td>\n",
       "      <td>1</td>\n",
       "      <td>0</td>\n",
       "      <td>113803</td>\n",
       "      <td>53.1000</td>\n",
       "      <td>C123</td>\n",
       "      <td>S</td>\n",
       "    </tr>\n",
       "    <tr>\n",
       "      <th>4</th>\n",
       "      <td>5</td>\n",
       "      <td>0</td>\n",
       "      <td>3</td>\n",
       "      <td>Allen, Mr. William Henry</td>\n",
       "      <td>male</td>\n",
       "      <td>35.0</td>\n",
       "      <td>0</td>\n",
       "      <td>0</td>\n",
       "      <td>373450</td>\n",
       "      <td>8.0500</td>\n",
       "      <td>NaN</td>\n",
       "      <td>S</td>\n",
       "    </tr>\n",
       "  </tbody>\n",
       "</table>\n",
       "</div>"
      ],
      "text/plain": [
       "   PassengerId  Survived  Pclass  \\\n",
       "0            1         0       3   \n",
       "1            2         1       1   \n",
       "2            3         1       3   \n",
       "3            4         1       1   \n",
       "4            5         0       3   \n",
       "\n",
       "                                                Name     Sex   Age  SibSp  \\\n",
       "0                            Braund, Mr. Owen Harris    male  22.0      1   \n",
       "1  Cumings, Mrs. John Bradley (Florence Briggs Th...  female  38.0      1   \n",
       "2                             Heikkinen, Miss. Laina  female  26.0      0   \n",
       "3       Futrelle, Mrs. Jacques Heath (Lily May Peel)  female  35.0      1   \n",
       "4                           Allen, Mr. William Henry    male  35.0      0   \n",
       "\n",
       "   Parch            Ticket     Fare Cabin Embarked  \n",
       "0      0         A/5 21171   7.2500   NaN        S  \n",
       "1      0          PC 17599  71.2833   C85        C  \n",
       "2      0  STON/O2. 3101282   7.9250   NaN        S  \n",
       "3      0            113803  53.1000  C123        S  \n",
       "4      0            373450   8.0500   NaN        S  "
      ]
     },
     "execution_count": 152,
     "metadata": {},
     "output_type": "execute_result"
    }
   ],
   "source": [
    "train.head()"
   ]
  },
  {
   "cell_type": "markdown",
   "id": "based-packaging",
   "metadata": {},
   "source": [
    "### 3. 데이터 분석\n",
    "\n",
    "\n",
    "- Survivied는 생존 여부(0은 사망, 1은 생존) -> train 데이터에서만 제공한다.\n",
    "- Pclass는 사회경제적 지위(1에 가까울 수록 높다.)\n",
    "- SipSp는 배우자나 형제 자매 명 수의 총 합을 나타낸다.\n",
    "- Parch는 부모 자식 명 수의 총 합을 나타낸다.\n",
    "\n",
    "각각 특성들의 의미를 알았으니, 주어진 데이터에서 대해 간략하게 살펴보자."
   ]
  },
  {
   "cell_type": "code",
   "execution_count": 153,
   "id": "genuine-fountain",
   "metadata": {},
   "outputs": [
    {
     "name": "stdout",
     "output_type": "stream",
     "text": [
      "train data shape:  (891, 12)\n",
      "test data shape:  (418, 11)\n",
      "----------[train infomation]----------\n",
      "<class 'pandas.core.frame.DataFrame'>\n",
      "RangeIndex: 891 entries, 0 to 890\n",
      "Data columns (total 12 columns):\n",
      " #   Column       Non-Null Count  Dtype  \n",
      "---  ------       --------------  -----  \n",
      " 0   PassengerId  891 non-null    int64  \n",
      " 1   Survived     891 non-null    int64  \n",
      " 2   Pclass       891 non-null    int64  \n",
      " 3   Name         891 non-null    object \n",
      " 4   Sex          891 non-null    object \n",
      " 5   Age          714 non-null    float64\n",
      " 6   SibSp        891 non-null    int64  \n",
      " 7   Parch        891 non-null    int64  \n",
      " 8   Ticket       891 non-null    object \n",
      " 9   Fare         891 non-null    float64\n",
      " 10  Cabin        204 non-null    object \n",
      " 11  Embarked     889 non-null    object \n",
      "dtypes: float64(2), int64(5), object(5)\n",
      "memory usage: 83.7+ KB\n",
      "None\n",
      "----------[test infomation]----------\n",
      "<class 'pandas.core.frame.DataFrame'>\n",
      "RangeIndex: 418 entries, 0 to 417\n",
      "Data columns (total 11 columns):\n",
      " #   Column       Non-Null Count  Dtype  \n",
      "---  ------       --------------  -----  \n",
      " 0   PassengerId  418 non-null    int64  \n",
      " 1   Pclass       418 non-null    int64  \n",
      " 2   Name         418 non-null    object \n",
      " 3   Sex          418 non-null    object \n",
      " 4   Age          332 non-null    float64\n",
      " 5   SibSp        418 non-null    int64  \n",
      " 6   Parch        418 non-null    int64  \n",
      " 7   Ticket       418 non-null    object \n",
      " 8   Fare         417 non-null    float64\n",
      " 9   Cabin        91 non-null     object \n",
      " 10  Embarked     418 non-null    object \n",
      "dtypes: float64(2), int64(4), object(5)\n",
      "memory usage: 36.0+ KB\n",
      "None\n"
     ]
    }
   ],
   "source": [
    "print('train data shape: ', train.shape)\n",
    "print('test data shape: ', test.shape)\n",
    "print('----------[train infomation]----------')\n",
    "print(train.info())\n",
    "print('----------[test infomation]----------')\n",
    "print(test.info())"
   ]
  },
  {
   "cell_type": "markdown",
   "id": "f34ac4b9",
   "metadata": {},
   "source": [
    "그리고 PassengerId, Name, Ticke, Cabin 은 분석하기에 필요 없는 부분이라 생각해서 drop() 함수를 이용해 제거한다. 뒤에서 진행할 머신러닝에서 사용할 수 있게 숫자 변환하는 것이 어렵기 때문이다. Tiket과 PassengerId 생존율 분석에 의미가 없다고 판단하여 이것 또한 제거하자."
   ]
  },
  {
   "cell_type": "code",
   "execution_count": 154,
   "id": "f99cc579",
   "metadata": {},
   "outputs": [],
   "source": [
    "train = train.drop(['PassengerId','Name', 'Ticket','Cabin'], axis = 1 )\n",
    "test = test.drop(['Name', 'Ticket','Cabin'], axis= 1)"
   ]
  },
  {
   "cell_type": "markdown",
   "id": "sapphire-pearl",
   "metadata": {},
   "source": [
    "이제 위에서 살펴본 특성들이 Survived 에 미치는 영향에 대해서 생각해보자.\n",
    "먼저 데이터의 시각화를 위한 라이브러리를 불러오자."
   ]
  },
  {
   "cell_type": "code",
   "execution_count": 155,
   "id": "level-pricing",
   "metadata": {},
   "outputs": [],
   "source": [
    "import matplotlib.pyplot as plt\n",
    "%matplotlib inline\n",
    "import seaborn as sns\n",
    "sns.set()"
   ]
  },
  {
   "cell_type": "markdown",
   "id": "abroad-acrylic",
   "metadata": {},
   "source": [
    "#### 3.1 Pie chart \n",
    "\n",
    "\n",
    "먼저 아래와 같이 카테고리 피처의 분포를 알아보기 위해 pie chart를 만드는 함수를 정의하자.\n",
    "\n",
    "- Sex\n",
    "- Pclass\n",
    "- Embarked"
   ]
  },
  {
   "cell_type": "code",
   "execution_count": 156,
   "id": "appropriate-secretary",
   "metadata": {},
   "outputs": [],
   "source": [
    "def pie_chart(feature):\n",
    "    feature_ratio = train[feature].value_counts(sort=False)\n",
    "    feature_size = feature_ratio.size\n",
    "    feature_index = feature_ratio.index\n",
    "    survived = train[train['Survived'] == 1][feature].value_counts()\n",
    "    dead = train[train['Survived'] == 0][feature].value_counts()\n",
    "    \n",
    "    plt.plot(aspect='auto')\n",
    "    plt.pie(feature_ratio, labels=feature_index, autopct='%1.1f%%')\n",
    "    plt.title(feature + '\\'s ratio in total')\n",
    "    plt.show()\n",
    "    \n",
    "    for i, index in enumerate(feature_index):\n",
    "        plt.subplot(1, feature_size + 1, i + 1, aspect='equal')\n",
    "        plt.pie([survived[index], dead[index]], labels=['Survivied', 'Dead'], autopct='%1.1f%%')\n",
    "        plt.title(str(index) + '\\'s ratio')\n",
    "    \n",
    "    plt.show()"
   ]
  },
  {
   "cell_type": "markdown",
   "id": "gothic-vanilla",
   "metadata": {},
   "source": [
    "먼저 Sex에 대한 Pie chart를 그려보자.\n"
   ]
  },
  {
   "cell_type": "code",
   "execution_count": 157,
   "id": "parliamentary-small",
   "metadata": {},
   "outputs": [
    {
     "data": {
      "image/png": "[encoded data removed]",
      "text/plain": [
       "<Figure size 432x288 with 1 Axes>"
      ]
     },
     "metadata": {},
     "output_type": "display_data"
    },
    {
     "data": {
      "image/png": "[encoded data removed]",
      "text/plain": [
       "<Figure size 432x288 with 2 Axes>"
      ]
     },
     "metadata": {},
     "output_type": "display_data"
    }
   ],
   "source": [
    "pie_chart('Sex')"
   ]
  },
  {
   "cell_type": "markdown",
   "id": "extended-evans",
   "metadata": {},
   "source": [
    "위처럼 남성이 배에 더 많이 탔으며, 남성보다 여성의 생존율이 더 높다는 것을 알 수 있다. 당시 레이디퍼스트 라는 시대적인 개념이 있어 여자가 남성들 보다 높은 생존율을 보였다."
   ]
  },
  {
   "cell_type": "markdown",
   "id": "prescribed-spirituality",
   "metadata": {},
   "source": [
    "다음으로 Pclass에 대해서도 그려보자."
   ]
  },
  {
   "cell_type": "code",
   "execution_count": 158,
   "id": "mathematical-creator",
   "metadata": {},
   "outputs": [
    {
     "data": {
      "image/png": "[encoded data removed]",
      "text/plain": [
       "<Figure size 432x288 with 1 Axes>"
      ]
     },
     "metadata": {},
     "output_type": "display_data"
    },
    {
     "data": {
      "image/png": "[encoded data removed]",
      "text/plain": [
       "<Figure size 432x288 with 3 Axes>"
      ]
     },
     "metadata": {},
     "output_type": "display_data"
    }
   ],
   "source": [
    "pie_chart('Pclass')"
   ]
  },
  {
   "cell_type": "markdown",
   "id": "interested-cooking",
   "metadata": {},
   "source": [
    "위처럼 탑승객들 중 3인 사람들이 가장 많이 탑승했지만 Pclass가 높은 사람들, 즉 사회적 지위가 높은 사람들의 생존율이 더 높다는 것을 알 수 있다."
   ]
  },
  {
   "cell_type": "markdown",
   "id": "laden-dynamics",
   "metadata": {},
   "source": [
    "마지막으로 어느 곳에서 승선했는지를 나타내는 Embarked 에 대해서도 알아보자."
   ]
  },
  {
   "cell_type": "code",
   "execution_count": 159,
   "id": "economic-religious",
   "metadata": {},
   "outputs": [
    {
     "data": {
      "image/png": "[encoded data removed]",
      "text/plain": [
       "<Figure size 432x288 with 1 Axes>"
      ]
     },
     "metadata": {},
     "output_type": "display_data"
    },
    {
     "data": {
      "image/png": "[encoded data removed]",
      "text/plain": [
       "<Figure size 432x288 with 3 Axes>"
      ]
     },
     "metadata": {},
     "output_type": "display_data"
    }
   ],
   "source": [
    "pie_chart('Embarked')"
   ]
  },
  {
   "cell_type": "markdown",
   "id": "raised-needle",
   "metadata": {},
   "source": [
    "위와 같이 S에서 승선한 사람들이 가장 많았으며 C에서 탄 사람중에선 생존한 사람의 비율이 높았고, 나머지 두 선착장에서 탄 사람들은 생존하지 못한 사람이 더 많다.\n"
   ]
  },
  {
   "cell_type": "markdown",
   "id": "5741897e",
   "metadata": {},
   "source": [
    "앞서 Pclass,Sex,Embarked는 타이타닉을 탑승했던 사람들의 생존율에 의미있는 차트를 보인다. "
   ]
  },
  {
   "cell_type": "markdown",
   "id": "compliant-distributor",
   "metadata": {},
   "source": [
    "#### 3.2 Bar chart\n",
    "\n",
    "\n",
    "이번에는 아래의 피처에 대해 Bar chart를 정의해서 데이터를 시각화 해보자."
   ]
  },
  {
   "cell_type": "markdown",
   "id": "agricultural-affiliate",
   "metadata": {},
   "source": [
    "- SibSp \n",
    "- Parch"
   ]
  },
  {
   "cell_type": "code",
   "execution_count": 160,
   "id": "attempted-yield",
   "metadata": {},
   "outputs": [],
   "source": [
    "def bar_chart(feature):\n",
    "    survived = train[train['Survived']==1][feature].value_counts()\n",
    "    dead = train[train['Survived']==0][feature].value_counts()\n",
    "    df = pd.DataFrame([survived,dead])\n",
    "    df.index = ['Survived','Dead']\n",
    "    df.plot(kind='bar',stacked=True, figsize=(10,5))"
   ]
  },
  {
   "cell_type": "markdown",
   "id": "private-blocking",
   "metadata": {},
   "source": [
    "먼저 SibSp에 대해 Bar chart를 그려보자."
   ]
  },
  {
   "cell_type": "code",
   "execution_count": 161,
   "id": "appropriate-biodiversity",
   "metadata": {},
   "outputs": [
    {
     "data": {
      "image/png": "[encoded data removed]",
      "text/plain": [
       "<Figure size 720x360 with 1 Axes>"
      ]
     },
     "metadata": {},
     "output_type": "display_data"
    }
   ],
   "source": [
    "bar_chart(\"SibSp\")"
   ]
  },
  {
   "cell_type": "markdown",
   "id": "earlier-neighbor",
   "metadata": {},
   "source": [
    "위 Bar chart 처럼 2명 이상의 형제나 배우자와 함께 탔을 경우 생존한 사람의 비율이 높다는 것을 알 수 있다."
   ]
  },
  {
   "cell_type": "markdown",
   "id": "chemical-tiger",
   "metadata": {},
   "source": [
    "이번엔 parch에 대해서도 Bar chart를 그려보자."
   ]
  },
  {
   "cell_type": "code",
   "execution_count": 162,
   "id": "verified-quarterly",
   "metadata": {},
   "outputs": [
    {
     "data": {
      "image/png": "[encoded data removed]",
      "text/plain": [
       "<Figure size 720x360 with 1 Axes>"
      ]
     },
     "metadata": {},
     "output_type": "display_data"
    }
   ],
   "source": [
    "bar_chart(\"Parch\")"
   ]
  },
  {
   "cell_type": "markdown",
   "id": "hispanic-jenny",
   "metadata": {},
   "source": [
    "Parch특성은 SibSp와 비슷한 결과를 보인다.\n",
    "\n",
    "지금까지 살펴본 데이터 특성들을 보면 성별이 여성(영화에서 보면 여성과 아이들을 먼저 구명보트에 태우는 장면이 나온다.)이거나 Pclass(영화에서 배가 후미부터 잠기는데 등급이 높은방은 앞쪽에 있는 경향이 있어 그런듯 하다.) 가 높을수록 그리고 C 선착장에서 배를 타고 형제, 자매, 배우자, 부모, 자녀와 함께 배를 탄 사람들의 생존율이 높았다는 것을 알 수 있다.\n",
    "\n",
    "하지만 하나의 특성과 생존 비율 만을 생각해서 예측하기에는 아직 무언가 부족하다.\n",
    "\n",
    "예를 들어 높은 금액의 티켓을 산 부유한 사람이 가족들이랑 왔을 경우가 많다고 가정해본다면, 가족들과 함께 왔다고 해서 살 가능성이 높다고 할 수 없다. 따라서 단일 특성을 가지고 생존 확률을 예측하기보단 여러가지 특성을 종합해서 예측을 하는 것이 더 좋을 것이다."
   ]
  },
  {
   "cell_type": "markdown",
   "id": "alternative-right",
   "metadata": {},
   "source": [
    "### 4. 데이터 전처리 및 특성 추출하기"
   ]
  },
  {
   "cell_type": "markdown",
   "id": "stainless-moscow",
   "metadata": {},
   "source": [
    "이제 앞으로 예측할 모델에 학습을 시킬 피처들을 골라 알맞게 전처리하는 과정을 해볼 것이다.\n",
    "\n",
    "일단 우리가 선택할 특성은 Name, Sex, Embarked, Age, SibSp, Parch, Fare, Pclass이다. 하지만 Ticket과 Cabin은 특별히 데이터분석에 필요하지 않기 때문에 제외한다.\n",
    "\n",
    "또한 데이터 전처리를 하는 과정에서는 train과 test 데이터를 같은 방법으로 한 번에 처리를 해야하기 때문에 먼저 두 개의 데이터를 합쳐보자."
   ]
  },
  {
   "cell_type": "code",
   "execution_count": 272,
   "id": "97d589e8",
   "metadata": {},
   "outputs": [],
   "source": [
    "train_and_test = [train, test]"
   ]
  },
  {
   "cell_type": "markdown",
   "id": "owned-heating",
   "metadata": {},
   "source": [
    "#### 4.1 Name\n",
    "\n",
    "이 피처는 위에서 제거하였다. 생존율 분석에 있어 크게 중요하지 않다고 판단하였다."
   ]
  },
  {
   "cell_type": "markdown",
   "id": "underlying-small",
   "metadata": {},
   "source": [
    "#### 4.2 Sex\n",
    "\n",
    "이번엔 승객의 성별을 나타내는 Sex 피처를 처리해보자. 이미 male과 femal로 나누어져 있으며 String Data로 변경해 주면 된다."
   ]
  },
  {
   "cell_type": "code",
   "execution_count": 163,
   "id": "driving-opposition",
   "metadata": {},
   "outputs": [],
   "source": [
    "for dataset in train_and_test:\n",
    "    dataset['Sex'] = dataset['Sex'].astype(str)"
   ]
  },
  {
   "cell_type": "markdown",
   "id": "fewer-handbook",
   "metadata": {},
   "source": [
    "#### 4.3 Embarked Feature\n",
    "\n",
    "이제 배를 탑승한 선착장을 나타내는 Embarked 피처를 처리하자.\n",
    "먼저 결측값이 있는지 확인을 해야 한다."
   ]
  },
  {
   "cell_type": "markdown",
   "id": "abroad-berlin",
   "metadata": {},
   "source": [
    "한편 위에서 보았던 Embarked 피처의 분포를 살펴보면 S가 대부분이다. 빠져있는 두 개의 데이터도 아마 거기에 속할 확률이 크기 때문에 S로 넣어주고 String Data로 변경해주자."
   ]
  },
  {
   "cell_type": "code",
   "execution_count": 184,
   "id": "c279201c",
   "metadata": {},
   "outputs": [
    {
     "data": {
      "text/plain": [
       "S      644\n",
       "C      168\n",
       "Q       77\n",
       "NaN      2\n",
       "Name: Embarked, dtype: int64"
      ]
     },
     "execution_count": 184,
     "metadata": {},
     "output_type": "execute_result"
    }
   ],
   "source": [
    "train['Embarked'].value_counts(dropna=False)"
   ]
  },
  {
   "cell_type": "code",
   "execution_count": 188,
   "id": "portuguese-microwave",
   "metadata": {},
   "outputs": [],
   "source": [
    "train[\"Embarked\"].fillna('S', inplace=True)\n",
    "test[\"Embarked\"].fillna('S', inplace=True)"
   ]
  },
  {
   "cell_type": "code",
   "execution_count": 190,
   "id": "99407fa9",
   "metadata": {},
   "outputs": [
    {
     "data": {
      "text/plain": [
       "S    646\n",
       "C    168\n",
       "Q     77\n",
       "Name: Embarked, dtype: int64"
      ]
     },
     "execution_count": 190,
     "metadata": {},
     "output_type": "execute_result"
    }
   ],
   "source": [
    "train['Embarked'].value_counts(dropna=False)"
   ]
  },
  {
   "cell_type": "raw",
   "id": "2d93f9f6",
   "metadata": {},
   "source": [
    "결측값이 잘 채워진 것을 볼 수 있다."
   ]
  },
  {
   "cell_type": "markdown",
   "id": "d5f34b87",
   "metadata": {},
   "source": [
    "#### 4.3 Age"
   ]
  },
  {
   "cell_type": "markdown",
   "id": "revised-convenience",
   "metadata": {},
   "source": [
    "나이는 연속 데이터라 따로 처리가 필요 없지만 결측치를 처리해야 한다. 여기선 평균값으로 채우자. 데이터의 통일성을 가지기 위해 train 데이터셋의 평균값으로 test 데이터도 결측치를 채운다."
   ]
  },
  {
   "cell_type": "code",
   "execution_count": 191,
   "id": "398fd10a",
   "metadata": {},
   "outputs": [],
   "source": [
    "train[\"Age\"].fillna(train[\"Age\"].mean() , inplace=True)\n",
    "test[\"Age\"].fillna(train[\"Age\"].mean() , inplace=True) "
   ]
  },
  {
   "cell_type": "markdown",
   "id": "caring-interview",
   "metadata": {},
   "source": [
    "#### 4.5 Fare\n",
    "\n",
    "위에서 Test 데이터를 살펴보면 Fare 피처에도 결측값이 하나 존재한다. Pclass와 Fare가 어느정도 연관성이 있어보인다. 그래서 결측값에 Pclass를 가진 사람들의 평균 Fare를 넣어주도록 하자."
   ]
  },
  {
   "cell_type": "code",
   "execution_count": 203,
   "id": "designing-tactics",
   "metadata": {},
   "outputs": [
    {
     "name": "stdout",
     "output_type": "stream",
     "text": [
      "   Pclass       Fare\n",
      "0       1  84.154687\n",
      "1       2  20.662183\n",
      "2       3  13.675550\n",
      "\n",
      "152    3\n",
      "Name: Pclass, dtype: int64\n"
     ]
    }
   ],
   "source": [
    "print(train[['Pclass', 'Fare']].groupby(['Pclass'], as_index=False).mean())\n",
    "print(\"\")\n",
    "print(test[test[\"Fare\"].isnull()][\"Pclass\"])"
   ]
  },
  {
   "cell_type": "markdown",
   "id": "unknown-cricket",
   "metadata": {},
   "source": [
    "위 결과에서 보듯이 누락된 데이터의 Pclass는 3이고 평균값은 13.675550이므로 이 값을 넣어주자."
   ]
  },
  {
   "cell_type": "code",
   "execution_count": 208,
   "id": "baking-intention",
   "metadata": {},
   "outputs": [],
   "source": [
    "test[\"Fare\"].fillna(13.675550, inplace=True)"
   ]
  },
  {
   "cell_type": "markdown",
   "id": "miniature-radio",
   "metadata": {},
   "source": [
    "#### 4.6 SibSp & Parch "
   ]
  },
  {
   "cell_type": "markdown",
   "id": "eleven-thousand",
   "metadata": {},
   "source": [
    "위에서 살펴 봤듯이 형제, 자매, 배우자, 부모님, 자녀의 수가 많을 수록 생존한 경우가 많았다. 하지만 이번에 그냥 있는 데이터로 진행해 보자."
   ]
  },
  {
   "cell_type": "markdown",
   "id": "endangered-richards",
   "metadata": {},
   "source": [
    "#### 4.7 특성 추출 및 나머지 전처리 "
   ]
  },
  {
   "cell_type": "markdown",
   "id": "handed-profession",
   "metadata": {},
   "source": [
    "이제 학습용 데이터를 위해 데이터를 분리하자."
   ]
  },
  {
   "cell_type": "code",
   "execution_count": 209,
   "id": "37895592",
   "metadata": {},
   "outputs": [
    {
     "name": "stdout",
     "output_type": "stream",
     "text": [
      "<class 'pandas.core.frame.DataFrame'>\n",
      "RangeIndex: 891 entries, 0 to 890\n",
      "Data columns (total 11 columns):\n",
      " #   Column      Non-Null Count  Dtype  \n",
      "---  ------      --------------  -----  \n",
      " 0   Survived    891 non-null    int64  \n",
      " 1   Pclass      891 non-null    int64  \n",
      " 2   Age         891 non-null    float64\n",
      " 3   SibSp       891 non-null    int64  \n",
      " 4   Parch       891 non-null    int64  \n",
      " 5   Fare        891 non-null    float64\n",
      " 6   Sex_female  891 non-null    uint8  \n",
      " 7   Sex_male    891 non-null    uint8  \n",
      " 8   Embarked_C  891 non-null    uint8  \n",
      " 9   Embarked_Q  891 non-null    uint8  \n",
      " 10  Embarked_S  891 non-null    uint8  \n",
      "dtypes: float64(2), int64(4), uint8(5)\n",
      "memory usage: 46.2 KB\n"
     ]
    }
   ],
   "source": [
    "train.info()"
   ]
  },
  {
   "cell_type": "code",
   "execution_count": 210,
   "id": "entire-consolidation",
   "metadata": {},
   "outputs": [
    {
     "data": {
      "text/html": [
       "<div>\n",
       "<style scoped>\n",
       "    .dataframe tbody tr th:only-of-type {\n",
       "        vertical-align: middle;\n",
       "    }\n",
       "\n",
       "    .dataframe tbody tr th {\n",
       "        vertical-align: top;\n",
       "    }\n",
       "\n",
       "    .dataframe thead th {\n",
       "        text-align: right;\n",
       "    }\n",
       "</style>\n",
       "<table border=\"1\" class=\"dataframe\">\n",
       "  <thead>\n",
       "    <tr style=\"text-align: right;\">\n",
       "      <th></th>\n",
       "      <th>Survived</th>\n",
       "      <th>Pclass</th>\n",
       "      <th>Age</th>\n",
       "      <th>SibSp</th>\n",
       "      <th>Parch</th>\n",
       "      <th>Fare</th>\n",
       "      <th>Sex_female</th>\n",
       "      <th>Sex_male</th>\n",
       "      <th>Embarked_C</th>\n",
       "      <th>Embarked_Q</th>\n",
       "      <th>Embarked_S</th>\n",
       "    </tr>\n",
       "  </thead>\n",
       "  <tbody>\n",
       "    <tr>\n",
       "      <th>0</th>\n",
       "      <td>0</td>\n",
       "      <td>3</td>\n",
       "      <td>22.0</td>\n",
       "      <td>1</td>\n",
       "      <td>0</td>\n",
       "      <td>7.2500</td>\n",
       "      <td>0</td>\n",
       "      <td>1</td>\n",
       "      <td>0</td>\n",
       "      <td>0</td>\n",
       "      <td>1</td>\n",
       "    </tr>\n",
       "    <tr>\n",
       "      <th>1</th>\n",
       "      <td>1</td>\n",
       "      <td>1</td>\n",
       "      <td>38.0</td>\n",
       "      <td>1</td>\n",
       "      <td>0</td>\n",
       "      <td>71.2833</td>\n",
       "      <td>1</td>\n",
       "      <td>0</td>\n",
       "      <td>1</td>\n",
       "      <td>0</td>\n",
       "      <td>0</td>\n",
       "    </tr>\n",
       "    <tr>\n",
       "      <th>2</th>\n",
       "      <td>1</td>\n",
       "      <td>3</td>\n",
       "      <td>26.0</td>\n",
       "      <td>0</td>\n",
       "      <td>0</td>\n",
       "      <td>7.9250</td>\n",
       "      <td>1</td>\n",
       "      <td>0</td>\n",
       "      <td>0</td>\n",
       "      <td>0</td>\n",
       "      <td>1</td>\n",
       "    </tr>\n",
       "    <tr>\n",
       "      <th>3</th>\n",
       "      <td>1</td>\n",
       "      <td>1</td>\n",
       "      <td>35.0</td>\n",
       "      <td>1</td>\n",
       "      <td>0</td>\n",
       "      <td>53.1000</td>\n",
       "      <td>1</td>\n",
       "      <td>0</td>\n",
       "      <td>0</td>\n",
       "      <td>0</td>\n",
       "      <td>1</td>\n",
       "    </tr>\n",
       "    <tr>\n",
       "      <th>4</th>\n",
       "      <td>0</td>\n",
       "      <td>3</td>\n",
       "      <td>35.0</td>\n",
       "      <td>0</td>\n",
       "      <td>0</td>\n",
       "      <td>8.0500</td>\n",
       "      <td>0</td>\n",
       "      <td>1</td>\n",
       "      <td>0</td>\n",
       "      <td>0</td>\n",
       "      <td>1</td>\n",
       "    </tr>\n",
       "  </tbody>\n",
       "</table>\n",
       "</div>"
      ],
      "text/plain": [
       "   Survived  Pclass   Age  SibSp  Parch     Fare  Sex_female  Sex_male  \\\n",
       "0         0       3  22.0      1      0   7.2500           0         1   \n",
       "1         1       1  38.0      1      0  71.2833           1         0   \n",
       "2         1       3  26.0      0      0   7.9250           1         0   \n",
       "3         1       1  35.0      1      0  53.1000           1         0   \n",
       "4         0       3  35.0      0      0   8.0500           0         1   \n",
       "\n",
       "   Embarked_C  Embarked_Q  Embarked_S  \n",
       "0           0           0           1  \n",
       "1           1           0           0  \n",
       "2           0           0           1  \n",
       "3           0           0           1  \n",
       "4           0           0           1  "
      ]
     },
     "execution_count": 210,
     "metadata": {},
     "output_type": "execute_result"
    }
   ],
   "source": [
    "train.head(5)"
   ]
  },
  {
   "cell_type": "code",
   "execution_count": 211,
   "id": "d1c26c45",
   "metadata": {},
   "outputs": [
    {
     "name": "stdout",
     "output_type": "stream",
     "text": [
      "<class 'pandas.core.frame.DataFrame'>\n",
      "RangeIndex: 418 entries, 0 to 417\n",
      "Data columns (total 11 columns):\n",
      " #   Column       Non-Null Count  Dtype  \n",
      "---  ------       --------------  -----  \n",
      " 0   PassengerId  418 non-null    int64  \n",
      " 1   Pclass       418 non-null    int64  \n",
      " 2   Age          418 non-null    float64\n",
      " 3   SibSp        418 non-null    int64  \n",
      " 4   Parch        418 non-null    int64  \n",
      " 5   Fare         418 non-null    float64\n",
      " 6   Sex_female   418 non-null    uint8  \n",
      " 7   Sex_male     418 non-null    uint8  \n",
      " 8   Embarked_C   418 non-null    uint8  \n",
      " 9   Embarked_Q   418 non-null    uint8  \n",
      " 10  Embarked_S   418 non-null    uint8  \n",
      "dtypes: float64(2), int64(4), uint8(5)\n",
      "memory usage: 21.8 KB\n"
     ]
    }
   ],
   "source": [
    "test.info()"
   ]
  },
  {
   "cell_type": "code",
   "execution_count": 212,
   "id": "db36d5ad",
   "metadata": {},
   "outputs": [
    {
     "data": {
      "text/html": [
       "<div>\n",
       "<style scoped>\n",
       "    .dataframe tbody tr th:only-of-type {\n",
       "        vertical-align: middle;\n",
       "    }\n",
       "\n",
       "    .dataframe tbody tr th {\n",
       "        vertical-align: top;\n",
       "    }\n",
       "\n",
       "    .dataframe thead th {\n",
       "        text-align: right;\n",
       "    }\n",
       "</style>\n",
       "<table border=\"1\" class=\"dataframe\">\n",
       "  <thead>\n",
       "    <tr style=\"text-align: right;\">\n",
       "      <th></th>\n",
       "      <th>PassengerId</th>\n",
       "      <th>Pclass</th>\n",
       "      <th>Age</th>\n",
       "      <th>SibSp</th>\n",
       "      <th>Parch</th>\n",
       "      <th>Fare</th>\n",
       "      <th>Sex_female</th>\n",
       "      <th>Sex_male</th>\n",
       "      <th>Embarked_C</th>\n",
       "      <th>Embarked_Q</th>\n",
       "      <th>Embarked_S</th>\n",
       "    </tr>\n",
       "  </thead>\n",
       "  <tbody>\n",
       "    <tr>\n",
       "      <th>0</th>\n",
       "      <td>892</td>\n",
       "      <td>3</td>\n",
       "      <td>34.5</td>\n",
       "      <td>0</td>\n",
       "      <td>0</td>\n",
       "      <td>7.8292</td>\n",
       "      <td>0</td>\n",
       "      <td>1</td>\n",
       "      <td>0</td>\n",
       "      <td>1</td>\n",
       "      <td>0</td>\n",
       "    </tr>\n",
       "    <tr>\n",
       "      <th>1</th>\n",
       "      <td>893</td>\n",
       "      <td>3</td>\n",
       "      <td>47.0</td>\n",
       "      <td>1</td>\n",
       "      <td>0</td>\n",
       "      <td>7.0000</td>\n",
       "      <td>1</td>\n",
       "      <td>0</td>\n",
       "      <td>0</td>\n",
       "      <td>0</td>\n",
       "      <td>1</td>\n",
       "    </tr>\n",
       "    <tr>\n",
       "      <th>2</th>\n",
       "      <td>894</td>\n",
       "      <td>2</td>\n",
       "      <td>62.0</td>\n",
       "      <td>0</td>\n",
       "      <td>0</td>\n",
       "      <td>9.6875</td>\n",
       "      <td>0</td>\n",
       "      <td>1</td>\n",
       "      <td>0</td>\n",
       "      <td>1</td>\n",
       "      <td>0</td>\n",
       "    </tr>\n",
       "    <tr>\n",
       "      <th>3</th>\n",
       "      <td>895</td>\n",
       "      <td>3</td>\n",
       "      <td>27.0</td>\n",
       "      <td>0</td>\n",
       "      <td>0</td>\n",
       "      <td>8.6625</td>\n",
       "      <td>0</td>\n",
       "      <td>1</td>\n",
       "      <td>0</td>\n",
       "      <td>0</td>\n",
       "      <td>1</td>\n",
       "    </tr>\n",
       "    <tr>\n",
       "      <th>4</th>\n",
       "      <td>896</td>\n",
       "      <td>3</td>\n",
       "      <td>22.0</td>\n",
       "      <td>1</td>\n",
       "      <td>1</td>\n",
       "      <td>12.2875</td>\n",
       "      <td>1</td>\n",
       "      <td>0</td>\n",
       "      <td>0</td>\n",
       "      <td>0</td>\n",
       "      <td>1</td>\n",
       "    </tr>\n",
       "  </tbody>\n",
       "</table>\n",
       "</div>"
      ],
      "text/plain": [
       "   PassengerId  Pclass   Age  SibSp  Parch     Fare  Sex_female  Sex_male  \\\n",
       "0          892       3  34.5      0      0   7.8292           0         1   \n",
       "1          893       3  47.0      1      0   7.0000           1         0   \n",
       "2          894       2  62.0      0      0   9.6875           0         1   \n",
       "3          895       3  27.0      0      0   8.6625           0         1   \n",
       "4          896       3  22.0      1      1  12.2875           1         0   \n",
       "\n",
       "   Embarked_C  Embarked_Q  Embarked_S  \n",
       "0           0           1           0  \n",
       "1           0           0           1  \n",
       "2           0           1           0  \n",
       "3           0           0           1  \n",
       "4           0           0           1  "
      ]
     },
     "execution_count": 212,
     "metadata": {},
     "output_type": "execute_result"
    }
   ],
   "source": [
    "test.head()"
   ]
  },
  {
   "cell_type": "markdown",
   "id": "8a35a005",
   "metadata": {},
   "source": [
    "이제 결측치가 모두 채워졌다. 이제 사용할 Feature에 대해서는 전처리가 되었으니, 학습시킬때 제외시킬 Feature들을 Drop 시키자."
   ]
  },
  {
   "cell_type": "code",
   "execution_count": 243,
   "id": "handed-reservation",
   "metadata": {},
   "outputs": [],
   "source": [
    "X_train = train.drop(\"Survived\",axis=1)\n",
    "Y_train = train[\"Survived\"]\n",
    "X_test  = test.drop(\"PassengerId\",axis=1).copy()"
   ]
  },
  {
   "cell_type": "markdown",
   "id": "controlled-entry",
   "metadata": {},
   "source": [
    "### 5. 모델 설계 및 학습\n",
    "\n",
    "다음 6가지 머신러닝 모델을 사용해 보자.\n",
    "\n",
    "- Logistic Regression\n",
    "- Support Vector Machine (SVM)\n",
    "- k-Nearest Neighbor (kNN)\n",
    "- Random Forest\n",
    "- SGD\n",
    "- xgboost"
   ]
  },
  {
   "cell_type": "markdown",
   "id": "revised-necessity",
   "metadata": {},
   "source": [
    "위 모델을 사용하기 위한 scikit-learn 라이브러리를 불러오자."
   ]
  },
  {
   "cell_type": "code",
   "execution_count": 264,
   "id": "about-hospital",
   "metadata": {},
   "outputs": [],
   "source": [
    "from sklearn.linear_model import LogisticRegression\n",
    "from sklearn.svm import SVC\n",
    "from sklearn.neighbors import KNeighborsClassifier\n",
    "from sklearn.ensemble import RandomForestClassifier\n",
    "from sklearn.linear_model import SGDClassifier\n",
    "from xgboost import XGBClassifier\n",
    "\n",
    "# 경고메세지 제거\n",
    "import warnings\n",
    "warnings.filterwarnings(action='ignore') \n",
    "\n",
    "from sklearn.utils import shuffle"
   ]
  },
  {
   "cell_type": "markdown",
   "id": "db141653",
   "metadata": {},
   "source": [
    "모델을 학습하기 전에 주어진 데이터가 정렬 되어 있으면 학습에 방해가 되므로 shuffle() 함수로 적절히 섞어주도록 하자."
   ]
  },
  {
   "cell_type": "code",
   "execution_count": 265,
   "id": "still-listening",
   "metadata": {},
   "outputs": [],
   "source": [
    "X_train, Y_train = shuffle(X_train, Y_train, random_state = 5)"
   ]
  },
  {
   "cell_type": "code",
   "execution_count": 266,
   "id": "fa64638e",
   "metadata": {},
   "outputs": [
    {
     "data": {
      "text/plain": [
       "0.8024691358024691"
      ]
     },
     "execution_count": 266,
     "metadata": {},
     "output_type": "execute_result"
    }
   ],
   "source": [
    "# 로지스틱 회귀 모델 사용\n",
    "\n",
    "lr = LogisticRegression()\n",
    "lr.fit(X_train, Y_train)\n",
    "\n",
    "Y_pred = lr.predict(X_test)\n",
    "\n",
    "lr.score(X_train, Y_train)"
   ]
  },
  {
   "cell_type": "code",
   "execution_count": 267,
   "id": "4989c5c5",
   "metadata": {},
   "outputs": [
    {
     "data": {
      "text/plain": [
       "0.6868686868686869"
      ]
     },
     "execution_count": 267,
     "metadata": {},
     "output_type": "execute_result"
    }
   ],
   "source": [
    "# Support Vector Machines 모델 사용\n",
    "\n",
    "svc = SVC()\n",
    "\n",
    "svc.fit(X_train, Y_train)\n",
    "\n",
    "Y_pred = svc.predict(X_test)\n",
    "\n",
    "svc.score(X_train, Y_train)"
   ]
  },
  {
   "cell_type": "code",
   "execution_count": 268,
   "id": "44c8e69a",
   "metadata": {},
   "outputs": [
    {
     "data": {
      "text/plain": [
       "0.9820426487093153"
      ]
     },
     "execution_count": 268,
     "metadata": {},
     "output_type": "execute_result"
    }
   ],
   "source": [
    "# Random Forests 모델 사용\n",
    "\n",
    "random_forest = RandomForestClassifier(n_estimators=100)\n",
    "\n",
    "random_forest.fit(X_train, Y_train)\n",
    "\n",
    "Y_pred = random_forest.predict(X_test)\n",
    "\n",
    "random_forest.score(X_train, Y_train)"
   ]
  },
  {
   "cell_type": "code",
   "execution_count": 269,
   "id": "1692d42d",
   "metadata": {},
   "outputs": [
    {
     "data": {
      "text/plain": [
       "0.8395061728395061"
      ]
     },
     "execution_count": 269,
     "metadata": {},
     "output_type": "execute_result"
    }
   ],
   "source": [
    "# k-최근접 이웃 모델 사용\n",
    "knn = KNeighborsClassifier(n_neighbors = 3)\n",
    "\n",
    "knn.fit(X_train, Y_train)\n",
    "\n",
    "Y_pred = knn.predict(X_test)\n",
    "\n",
    "knn.score(X_train, Y_train)"
   ]
  },
  {
   "cell_type": "code",
   "execution_count": 270,
   "id": "688dd6e6",
   "metadata": {},
   "outputs": [
    {
     "data": {
      "text/plain": [
       "0.7485970819304153"
      ]
     },
     "execution_count": 270,
     "metadata": {},
     "output_type": "execute_result"
    }
   ],
   "source": [
    "sgd = SGDClassifier(loss='log', max_iter=10, random_state=42)\n",
    "\n",
    "sgd.fit(X_train, Y_train)\n",
    "\n",
    "Y_pred = sgd.predict(X_test)\n",
    "\n",
    "sgd.score(X_train, Y_train)"
   ]
  },
  {
   "cell_type": "code",
   "execution_count": 271,
   "id": "ee3b27e5",
   "metadata": {},
   "outputs": [
    {
     "name": "stdout",
     "output_type": "stream",
     "text": [
      "[00:08:30] WARNING: /tmp/pip-build-gopfpmzp/xgboost/build/temp.linux-x86_64-3.6/xgboost/src/learner.cc:1095: Starting in XGBoost 1.3.0, the default evaluation metric used with the objective 'binary:logistic' was changed from 'error' to 'logloss'. Explicitly set eval_metric if you'd like to restore the old behavior.\n"
     ]
    },
    {
     "data": {
      "text/plain": [
       "0.9629629629629629"
      ]
     },
     "execution_count": 271,
     "metadata": {},
     "output_type": "execute_result"
    }
   ],
   "source": [
    "xgb  = XGBClassifier()\n",
    "xgb.fit(X_train, Y_train)\n",
    "\n",
    "Y_pred = xgb.predict(X_test)\n",
    "\n",
    "xgb.score(X_train, Y_train)"
   ]
  },
  {
   "cell_type": "markdown",
   "id": "c49598d6",
   "metadata": {},
   "source": [
    "결과를 보니 랜덤포레스트 모델을 사용하였을 때 가장 좋은 결과값이 나왔다. 요새 가장 각광 받고있는 모델인 xgboost 모델도 적용을 해 보았는데 랜덤 포레스트보다는 조금 떨어진 결과가 나왔지만 예측모델로서 나쁘지 않은 결과가 나왔다. 이번에 사용한 타이타닉 데이터는 랜덤포레스트 모델을 적용했을 때 더 잘 맞았던 것 같다."
   ]
  }
 ],
 "metadata": {
  "kernelspec": {
   "display_name": "Python 3",
   "language": "python",
   "name": "python3"
  },
  "language_info": {
   "codemirror_mode": {
    "name": "ipython",
    "version": 3
   },
   "file_extension": ".py",
   "mimetype": "text/x-python",
   "name": "python",
   "nbconvert_exporter": "python",
   "pygments_lexer": "ipython3",
   "version": "3.6.9"
  }
 },
 "nbformat": 4,
 "nbformat_minor": 5
}
